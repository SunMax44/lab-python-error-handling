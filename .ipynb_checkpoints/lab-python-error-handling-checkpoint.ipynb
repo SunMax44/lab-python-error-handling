{
 "cells": [
  {
   "cell_type": "markdown",
   "id": "25d7736c-ba17-4aff-b6bb-66eba20fbf4e",
   "metadata": {},
   "source": [
    "# Lab | Error Handling"
   ]
  },
  {
   "cell_type": "markdown",
   "id": "bc99b386-7508-47a0-bcdb-d969deaf6c8b",
   "metadata": {},
   "source": [
    "## Exercise: Error Handling for Managing Customer Orders\n",
    "\n",
    "The implementation of your code for managing customer orders assumes that the user will always enter a valid input. \n",
    "\n",
    "For example, we could modify the `initialize_inventory` function to include error handling.\n",
    "   - If the user enters an invalid quantity (e.g., a negative value or a non-numeric value), display an error message and ask them to re-enter the quantity for that product.\n",
    "   - Use a try-except block to handle the error and continue prompting the user until a valid quantity is entered.\n",
    "\n",
    "```python\n",
    "# Step 1: Define the function for initializing the inventory with error handling\n",
    "def initialize_inventory(products):\n",
    "    inventory = {}\n",
    "    for product in products:\n",
    "        valid_quantity = False\n",
    "        while not valid_quantity:\n",
    "            try:\n",
    "                quantity = int(input(f\"Enter the quantity of {product}s available: \"))\n",
    "                if quantity < 0:\n",
    "                    raise ValueError(\"Invalid quantity! Please enter a non-negative value.\")\n",
    "                valid_quantity = True\n",
    "            except ValueError as error:\n",
    "                print(f\"Error: {error}\")\n",
    "        inventory[product] = quantity\n",
    "    return inventory\n",
    "\n",
    "# Or, in another way:\n",
    "\n",
    "def initialize_inventory(products):\n",
    "    inventory = {}\n",
    "    for product in products:\n",
    "        valid_input = False\n",
    "        while not valid_input:\n",
    "            try:\n",
    "                quantity = int(input(f\"Enter the quantity of {product}s available: \"))\n",
    "                if quantity >= 0:\n",
    "                    inventory[product] = quantity\n",
    "                    valid_input = True\n",
    "                else:\n",
    "                    print(\"Quantity cannot be negative. Please enter a valid quantity.\")\n",
    "            except ValueError:\n",
    "                print(\"Invalid input. Please enter a valid quantity.\")\n",
    "    return inventory\n",
    "```\n",
    "\n",
    "Let's enhance your code by implementing error handling to handle invalid inputs.\n",
    "\n",
    "Follow the steps below to complete the exercise:\n",
    "\n",
    "2. Modify the `calculate_total_price` function to include error handling.\n",
    "   - If the user enters an invalid price (e.g., a negative value or a non-numeric value), display an error message and ask them to re-enter the price for that product.\n",
    "   - Use a try-except block to handle the error and continue prompting the user until a valid price is entered.\n",
    "\n",
    "3. Modify the `get_customer_orders` function to include error handling.\n",
    "   - If the user enters an invalid number of orders (e.g., a negative value or a non-numeric value), display an error message and ask them to re-enter the number of orders.\n",
    "   - If the user enters an invalid product name (e.g., a product name that is not in the inventory), or that doesn't have stock available, display an error message and ask them to re-enter the product name. *Hint: you will need to pass inventory as a parameter*\n",
    "   - Use a try-except block to handle the error and continue prompting the user until a valid product name is entered.\n",
    "\n",
    "4. Test your code by running the program and deliberately entering invalid quantities and product names. Make sure the error handling mechanism works as expected.\n"
   ]
  },
  {
   "cell_type": "code",
   "execution_count": 25,
   "id": "5374b562-75c0-4e2c-9376-a48c48c60702",
   "metadata": {},
   "outputs": [
    {
     "name": "stdin",
     "output_type": "stream",
     "text": [
      "Type in the price you want to pay for a t-shirt 1\n",
      "Type in the price you want to pay for a hat 1\n"
     ]
    },
    {
     "data": {
      "text/plain": [
       "2.0"
      ]
     },
     "execution_count": 25,
     "metadata": {},
     "output_type": "execute_result"
    }
   ],
   "source": [
    "#2. Modify the calculate_total_price function to include error handling.\n",
    "#-If the user enters an invalid price(e.g., a negative value or a non-numeric value), display an error message\n",
    "#and ask them to re-enter the price for that product.\n",
    "#-Use a try-except block to handle the error and continue prompting the user until a valid price is entered.\n",
    "\n",
    "\n",
    "\n",
    "def total_price_co(customer_orders):\n",
    "    price_list = []\n",
    "    for product in customer_orders:\n",
    "        valid_quantity = False\n",
    "        while not valid_quantity:\n",
    "            try:\n",
    "                price = float(input(f'Type in the price you want to pay for a {product}'))\n",
    "                if price <= 0:\n",
    "                  raise ValueError(\"Invalid quantity! Please enter a positive value.\")\n",
    "                valid_quantity = True\n",
    "            except ValueError as error:\n",
    "                print(f\"Error: {error}\")\n",
    "        price_list.append(price)\n",
    "    return sum(price_list)\n",
    "\n",
    "co = ['t-shirt','hat']\n",
    "total_price_co(co)"
   ]
  },
  {
   "cell_type": "code",
   "execution_count": null,
   "id": "e5473166-cc6b-4854-9e5d-07ad6e6a817c",
   "metadata": {},
   "outputs": [],
   "source": []
  },
  {
   "cell_type": "code",
   "execution_count": 45,
   "id": "a45b691f-e54a-4b80-9400-8430e88bef0f",
   "metadata": {},
   "outputs": [
    {
     "name": "stdin",
     "output_type": "stream",
     "text": [
      "Enter the quantity of t-shirts available:  5\n",
      "Enter the quantity of hats available:  0\n",
      "Enter the quantity of mugs available:  1\n",
      "Enter the quantity of books available:  5\n",
      "Enter the quantity of keychains available:  5\n",
      "Please enter the number of products you want to order today. 2\n",
      "Please enter a product you want to order. Today we sell t-shirts, hats, mugs, books. hat\n"
     ]
    },
    {
     "name": "stdout",
     "output_type": "stream",
     "text": [
      "Sorry, we ran out of stock on these hats.\n"
     ]
    },
    {
     "name": "stdin",
     "output_type": "stream",
     "text": [
      "Do you want to order something else instead (answer \"yes\") or just continue (answer \"no\"? yes\n",
      "Please enter a product you want to order. Today we sell t-shirts, hats, mugs, books. t-shirt\n",
      "Please enter a product you want to order. Today we sell t-shirts, hats, mugs, books. hat\n"
     ]
    },
    {
     "name": "stdout",
     "output_type": "stream",
     "text": [
      "Sorry, we ran out of stock on these hats.\n"
     ]
    },
    {
     "name": "stdin",
     "output_type": "stream",
     "text": [
      "Do you want to order something else instead (answer \"yes\") or just continue (answer \"no\"? yes\n",
      "Please enter a product you want to order. Today we sell t-shirts, hats, mugs, books. mug\n"
     ]
    },
    {
     "data": {
      "text/plain": [
       "['t-shirt', 'mug']"
      ]
     },
     "execution_count": 45,
     "metadata": {},
     "output_type": "execute_result"
    }
   ],
   "source": [
    "### 3. Modify the get_customer_orders function to include error handling.\n",
    "#- If the user enters an invalid number of orders (e.g., a negative value or a non-numeric value), display an error message\n",
    "#and ask them to re-enter the number of orders.\n",
    "#- If the user enters an invalid product name (e.g., a product name that is not in the inventory),or that doesn't have stock available\n",
    "#, display an error message and ask them to re-enter the product name. Hint: you will need to pass inventory as a parameter\n",
    "#- Use a try-except block to handle the error and continue prompting the user until a valid product name is entered.\n",
    "\n",
    "#version from the comprehension lab:\n",
    "#def get_customer_orders():\n",
    "#    products_ordered = [input('Please enter a product you want to order. Today we sell t-shirts, hats, mugs, books') for number in range(int(input('Please enter the number of products you want to order')))]\n",
    "#    return products_ordered\n",
    "\n",
    "def initialize_inventory(products):\n",
    "    inventory = {}\n",
    "    for product in products:\n",
    "        valid_input = False\n",
    "        while not valid_input:\n",
    "            try:\n",
    "                quantity = int(input(f\"Enter the quantity of {product}s available: \"))\n",
    "                if quantity >= 0:\n",
    "                    inventory[product] = quantity\n",
    "                    valid_input = True\n",
    "                else:\n",
    "                    print(\"Quantity cannot be negative. Please enter a valid quantity.\")\n",
    "            except ValueError:\n",
    "                print(\"Invalid input. Please enter a valid quantity.\")\n",
    "    return inventory\n",
    "\n",
    "ex_products = ['t-shirt','hat','mug','book','keychain']\n",
    "ex_inventory = initialize_inventory(ex_products)\n",
    "\n",
    "def get_customer_orders(inventory):\n",
    "    products_ordered = []\n",
    "    valid_number = False\n",
    "    while not valid_number:\n",
    "        try:\n",
    "            number = int(input('Please enter the number of products you want to order today.'))\n",
    "            if number <= 0:\n",
    "                print(\"Invalid quantity! Your order can only be a positive number, otherwise leave our shop.\")\n",
    "            else:\n",
    "                valid_number = True\n",
    "        except:\n",
    "            print(f\"Error: Please enter a positive number of products.\")\n",
    "    for order_number in range(number):\n",
    "        valid_product = False\n",
    "        while not valid_product:\n",
    "            product = input('Please enter a product you want to order. Today we sell t-shirts, hats, mugs, books.')\n",
    "            if product in inventory:\n",
    "                if inventory[f'{product}'] > 0: \n",
    "                    products_ordered.append(product)\n",
    "                    valid_product = True\n",
    "                else:\n",
    "                    print(f'Sorry, we ran out of stock on these {product}s.')\n",
    "                    if input('Do you want to order something else instead (answer \"yes\") or just continue (answer \"no\"?') == 'no':\n",
    "                        valid_product = True\n",
    "            else:\n",
    "                print('Sorry, we do not sell what you typed in. Today we only sell t-shirts, hats, mugs, books.')        \n",
    "    return products_ordered\n",
    "\n",
    "get_customer_orders(ex_inventory)"
   ]
  },
  {
   "cell_type": "code",
   "execution_count": null,
   "id": "97663181-1b9c-4054-9cde-22acb304ddec",
   "metadata": {},
   "outputs": [],
   "source": []
  }
 ],
 "metadata": {
  "kernelspec": {
   "display_name": "Python 3 (ipykernel)",
   "language": "python",
   "name": "python3"
  },
  "language_info": {
   "codemirror_mode": {
    "name": "ipython",
    "version": 3
   },
   "file_extension": ".py",
   "mimetype": "text/x-python",
   "name": "python",
   "nbconvert_exporter": "python",
   "pygments_lexer": "ipython3",
   "version": "3.12.4"
  }
 },
 "nbformat": 4,
 "nbformat_minor": 5
}
